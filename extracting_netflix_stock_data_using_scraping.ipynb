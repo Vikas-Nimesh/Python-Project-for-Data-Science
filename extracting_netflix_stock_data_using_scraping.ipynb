{
 "cells": [
  {
   "cell_type": "markdown",
   "id": "dc860570",
   "metadata": {},
   "source": [
    "# importing libraries"
   ]
  },
  {
   "cell_type": "code",
   "execution_count": 1,
   "id": "1dbe6e4d",
   "metadata": {},
   "outputs": [],
   "source": [
    "import pandas as pd #to perform analysis\n",
    "import requests #to download html page\n",
    "from bs4 import BeautifulSoup #to extract html data"
   ]
  },
  {
   "cell_type": "markdown",
   "id": "704edd22",
   "metadata": {},
   "source": [
    "# Extracting Netflix Stock Data using Scraping"
   ]
  },
  {
   "cell_type": "markdown",
   "id": "cfd75a40",
   "metadata": {},
   "source": [
    "We are using [marketwatch.com](https://www.marketwatch.com/) for scraping."
   ]
  },
  {
   "cell_type": "code",
   "execution_count": 2,
   "id": "7bfe4fc8",
   "metadata": {},
   "outputs": [],
   "source": [
    "url = \"https://www.marketwatch.com/investing/stock/nflx/download-data\"\n",
    "data  = requests.get(url).text"
   ]
  },
  {
   "cell_type": "markdown",
   "id": "9f12efad",
   "metadata": {},
   "source": [
    "Creating Beautifulsoup object"
   ]
  },
  {
   "cell_type": "code",
   "execution_count": 3,
   "id": "148ba461",
   "metadata": {},
   "outputs": [],
   "source": [
    "soup = BeautifulSoup(data, 'html5lib')"
   ]
  },
  {
   "cell_type": "markdown",
   "id": "7ea5449f",
   "metadata": {},
   "source": [
    "## Creating a empty dataframe"
   ]
  },
  {
   "cell_type": "code",
   "execution_count": 4,
   "id": "77bac292",
   "metadata": {},
   "outputs": [
    {
     "data": {
      "text/html": [
       "<div>\n",
       "<style scoped>\n",
       "    .dataframe tbody tr th:only-of-type {\n",
       "        vertical-align: middle;\n",
       "    }\n",
       "\n",
       "    .dataframe tbody tr th {\n",
       "        vertical-align: top;\n",
       "    }\n",
       "\n",
       "    .dataframe thead th {\n",
       "        text-align: right;\n",
       "    }\n",
       "</style>\n",
       "<table border=\"1\" class=\"dataframe\">\n",
       "  <thead>\n",
       "    <tr style=\"text-align: right;\">\n",
       "      <th></th>\n",
       "      <th>Date</th>\n",
       "      <th>Open</th>\n",
       "      <th>High</th>\n",
       "      <th>Low</th>\n",
       "      <th>Close</th>\n",
       "      <th>Volume</th>\n",
       "    </tr>\n",
       "  </thead>\n",
       "  <tbody>\n",
       "  </tbody>\n",
       "</table>\n",
       "</div>"
      ],
      "text/plain": [
       "Empty DataFrame\n",
       "Columns: [Date, Open, High, Low, Close, Volume]\n",
       "Index: []"
      ]
     },
     "execution_count": 4,
     "metadata": {},
     "output_type": "execute_result"
    }
   ],
   "source": [
    "netflix_data = pd.DataFrame(columns=[\"Date\", \"Open\", \"High\", \"Low\", \"Close\", \"Volume\"])\n",
    "netflix_data"
   ]
  },
  {
   "cell_type": "markdown",
   "id": "81c0b5a1",
   "metadata": {},
   "source": [
    "**Now we are extracting data fro website**"
   ]
  },
  {
   "cell_type": "code",
   "execution_count": 5,
   "id": "ec761672",
   "metadata": {
    "scrolled": false
   },
   "outputs": [],
   "source": [
    "table_rows =  soup.find(\"table\", class_ = 'table table--overflow align--center').find('tbody')"
   ]
  },
  {
   "cell_type": "code",
   "execution_count": 6,
   "id": "befee3ec",
   "metadata": {},
   "outputs": [],
   "source": [
    "for row in table_rows.find_all('tr'):\n",
    "\n",
    "    column_date = row.find_all('td')[0].find('div').text\n",
    "    column_open = table_rows.find_all('td')[1].text.replace(\"$\",\"\")\n",
    "    column_high = table_rows.find_all('td')[2].text.replace(\"$\",\"\")\n",
    "    column_low = table_rows.find_all('td')[3].text.replace(\"$\",\"\")\n",
    "    column_close = table_rows.find_all('td')[4].text.replace(\"$\",\"\")\n",
    "    column_volume = table_rows.find_all('td')[5].text.replace(\",\",\"\")\n",
    "    netflix_data = netflix_data.append({\"Date\":column_date, \"Open\":column_open, \"High\":column_high, \"Low\":column_low, \"Close\":column_close, \"Volume\":column_volume}, ignore_index=True)   "
   ]
  },
  {
   "cell_type": "markdown",
   "id": "5c30d8c2",
   "metadata": {},
   "source": [
    "**Top 5 rows of data**"
   ]
  },
  {
   "cell_type": "code",
   "execution_count": 7,
   "id": "027e2a5e",
   "metadata": {
    "scrolled": true
   },
   "outputs": [
    {
     "data": {
      "text/html": [
       "<div>\n",
       "<style scoped>\n",
       "    .dataframe tbody tr th:only-of-type {\n",
       "        vertical-align: middle;\n",
       "    }\n",
       "\n",
       "    .dataframe tbody tr th {\n",
       "        vertical-align: top;\n",
       "    }\n",
       "\n",
       "    .dataframe thead th {\n",
       "        text-align: right;\n",
       "    }\n",
       "</style>\n",
       "<table border=\"1\" class=\"dataframe\">\n",
       "  <thead>\n",
       "    <tr style=\"text-align: right;\">\n",
       "      <th></th>\n",
       "      <th>Date</th>\n",
       "      <th>Open</th>\n",
       "      <th>High</th>\n",
       "      <th>Low</th>\n",
       "      <th>Close</th>\n",
       "      <th>Volume</th>\n",
       "    </tr>\n",
       "  </thead>\n",
       "  <tbody>\n",
       "    <tr>\n",
       "      <th>0</th>\n",
       "      <td>08/18/2022</td>\n",
       "      <td>241.96</td>\n",
       "      <td>246.48</td>\n",
       "      <td>239.28</td>\n",
       "      <td>245.17</td>\n",
       "      <td>5280387</td>\n",
       "    </tr>\n",
       "    <tr>\n",
       "      <th>1</th>\n",
       "      <td>08/17/2022</td>\n",
       "      <td>241.96</td>\n",
       "      <td>246.48</td>\n",
       "      <td>239.28</td>\n",
       "      <td>245.17</td>\n",
       "      <td>5280387</td>\n",
       "    </tr>\n",
       "    <tr>\n",
       "      <th>2</th>\n",
       "      <td>08/16/2022</td>\n",
       "      <td>241.96</td>\n",
       "      <td>246.48</td>\n",
       "      <td>239.28</td>\n",
       "      <td>245.17</td>\n",
       "      <td>5280387</td>\n",
       "    </tr>\n",
       "    <tr>\n",
       "      <th>3</th>\n",
       "      <td>08/15/2022</td>\n",
       "      <td>241.96</td>\n",
       "      <td>246.48</td>\n",
       "      <td>239.28</td>\n",
       "      <td>245.17</td>\n",
       "      <td>5280387</td>\n",
       "    </tr>\n",
       "    <tr>\n",
       "      <th>4</th>\n",
       "      <td>08/12/2022</td>\n",
       "      <td>241.96</td>\n",
       "      <td>246.48</td>\n",
       "      <td>239.28</td>\n",
       "      <td>245.17</td>\n",
       "      <td>5280387</td>\n",
       "    </tr>\n",
       "  </tbody>\n",
       "</table>\n",
       "</div>"
      ],
      "text/plain": [
       "         Date    Open    High     Low   Close   Volume\n",
       "0  08/18/2022  241.96  246.48  239.28  245.17  5280387\n",
       "1  08/17/2022  241.96  246.48  239.28  245.17  5280387\n",
       "2  08/16/2022  241.96  246.48  239.28  245.17  5280387\n",
       "3  08/15/2022  241.96  246.48  239.28  245.17  5280387\n",
       "4  08/12/2022  241.96  246.48  239.28  245.17  5280387"
      ]
     },
     "execution_count": 7,
     "metadata": {},
     "output_type": "execute_result"
    }
   ],
   "source": [
    "netflix_data.head()"
   ]
  },
  {
   "cell_type": "markdown",
   "id": "b1b34874",
   "metadata": {},
   "source": [
    "open = Open Price of stock = The price at which stock opened\n",
    "\n",
    "close =Close price of stock = The price at which stock closed\n",
    "\n",
    "High = The highest price the stock touched\n",
    "\n",
    "Low = The lowest price the stock touched"
   ]
  },
  {
   "cell_type": "markdown",
   "id": "dfddeeab",
   "metadata": {},
   "source": [
    "**Checking rows and columns in dataframe**"
   ]
  },
  {
   "cell_type": "code",
   "execution_count": 8,
   "id": "73e24337",
   "metadata": {},
   "outputs": [
    {
     "data": {
      "text/plain": [
       "(20, 6)"
      ]
     },
     "execution_count": 8,
     "metadata": {},
     "output_type": "execute_result"
    }
   ],
   "source": [
    "netflix_data.shape"
   ]
  },
  {
   "cell_type": "markdown",
   "id": "4179728b",
   "metadata": {},
   "source": [
    "**Changing index column**"
   ]
  },
  {
   "cell_type": "code",
   "execution_count": 9,
   "id": "4cb02454",
   "metadata": {},
   "outputs": [
    {
     "data": {
      "text/html": [
       "<div>\n",
       "<style scoped>\n",
       "    .dataframe tbody tr th:only-of-type {\n",
       "        vertical-align: middle;\n",
       "    }\n",
       "\n",
       "    .dataframe tbody tr th {\n",
       "        vertical-align: top;\n",
       "    }\n",
       "\n",
       "    .dataframe thead th {\n",
       "        text-align: right;\n",
       "    }\n",
       "</style>\n",
       "<table border=\"1\" class=\"dataframe\">\n",
       "  <thead>\n",
       "    <tr style=\"text-align: right;\">\n",
       "      <th></th>\n",
       "      <th>Date</th>\n",
       "      <th>Open</th>\n",
       "      <th>High</th>\n",
       "      <th>Low</th>\n",
       "      <th>Close</th>\n",
       "      <th>Volume</th>\n",
       "    </tr>\n",
       "  </thead>\n",
       "  <tbody>\n",
       "    <tr>\n",
       "      <th>0</th>\n",
       "      <td>08/18/2022</td>\n",
       "      <td>241.96</td>\n",
       "      <td>246.48</td>\n",
       "      <td>239.28</td>\n",
       "      <td>245.17</td>\n",
       "      <td>5280387</td>\n",
       "    </tr>\n",
       "    <tr>\n",
       "      <th>1</th>\n",
       "      <td>08/17/2022</td>\n",
       "      <td>241.96</td>\n",
       "      <td>246.48</td>\n",
       "      <td>239.28</td>\n",
       "      <td>245.17</td>\n",
       "      <td>5280387</td>\n",
       "    </tr>\n",
       "    <tr>\n",
       "      <th>2</th>\n",
       "      <td>08/16/2022</td>\n",
       "      <td>241.96</td>\n",
       "      <td>246.48</td>\n",
       "      <td>239.28</td>\n",
       "      <td>245.17</td>\n",
       "      <td>5280387</td>\n",
       "    </tr>\n",
       "    <tr>\n",
       "      <th>3</th>\n",
       "      <td>08/15/2022</td>\n",
       "      <td>241.96</td>\n",
       "      <td>246.48</td>\n",
       "      <td>239.28</td>\n",
       "      <td>245.17</td>\n",
       "      <td>5280387</td>\n",
       "    </tr>\n",
       "    <tr>\n",
       "      <th>4</th>\n",
       "      <td>08/12/2022</td>\n",
       "      <td>241.96</td>\n",
       "      <td>246.48</td>\n",
       "      <td>239.28</td>\n",
       "      <td>245.17</td>\n",
       "      <td>5280387</td>\n",
       "    </tr>\n",
       "  </tbody>\n",
       "</table>\n",
       "</div>"
      ],
      "text/plain": [
       "         Date    Open    High     Low   Close   Volume\n",
       "0  08/18/2022  241.96  246.48  239.28  245.17  5280387\n",
       "1  08/17/2022  241.96  246.48  239.28  245.17  5280387\n",
       "2  08/16/2022  241.96  246.48  239.28  245.17  5280387\n",
       "3  08/15/2022  241.96  246.48  239.28  245.17  5280387\n",
       "4  08/12/2022  241.96  246.48  239.28  245.17  5280387"
      ]
     },
     "execution_count": 9,
     "metadata": {},
     "output_type": "execute_result"
    }
   ],
   "source": [
    "netflix_data.head()"
   ]
  },
  {
   "cell_type": "markdown",
   "id": "4f246a02",
   "metadata": {},
   "source": [
    "Lets see our columns types"
   ]
  },
  {
   "cell_type": "code",
   "execution_count": 10,
   "id": "931f7edd",
   "metadata": {
    "scrolled": true
   },
   "outputs": [
    {
     "name": "stdout",
     "output_type": "stream",
     "text": [
      "<class 'pandas.core.frame.DataFrame'>\n",
      "RangeIndex: 20 entries, 0 to 19\n",
      "Data columns (total 6 columns):\n",
      " #   Column  Non-Null Count  Dtype \n",
      "---  ------  --------------  ----- \n",
      " 0   Date    20 non-null     object\n",
      " 1   Open    20 non-null     object\n",
      " 2   High    20 non-null     object\n",
      " 3   Low     20 non-null     object\n",
      " 4   Close   20 non-null     object\n",
      " 5   Volume  20 non-null     object\n",
      "dtypes: object(6)\n",
      "memory usage: 1.1+ KB\n"
     ]
    }
   ],
   "source": [
    "netflix_data.info()"
   ]
  },
  {
   "cell_type": "markdown",
   "id": "4c68dc77",
   "metadata": {},
   "source": [
    "As you can see that the columns are object type means we cant perfrom any statistical operations."
   ]
  },
  {
   "cell_type": "markdown",
   "id": "117e0c4e",
   "metadata": {},
   "source": [
    "**Converting to float and int**"
   ]
  },
  {
   "cell_type": "code",
   "execution_count": 11,
   "id": "186d314d",
   "metadata": {},
   "outputs": [],
   "source": [
    "netflix_data['Open'] = netflix_data['Open'].astype(float)\n",
    "netflix_data['High'] = netflix_data['High'].astype(float)\n",
    "netflix_data['Low'] = netflix_data['Low'].astype(float)\n",
    "netflix_data['Close'] = netflix_data['Close'].astype(float)\n",
    "netflix_data['Volume'] = netflix_data['Volume'].astype(int)"
   ]
  },
  {
   "cell_type": "markdown",
   "id": "13d820f9",
   "metadata": {},
   "source": [
    "**Checking null values**"
   ]
  },
  {
   "cell_type": "code",
   "execution_count": 12,
   "id": "aaffcf6f",
   "metadata": {},
   "outputs": [
    {
     "data": {
      "text/plain": [
       "Date      0\n",
       "Open      0\n",
       "High      0\n",
       "Low       0\n",
       "Close     0\n",
       "Volume    0\n",
       "dtype: int64"
      ]
     },
     "execution_count": 12,
     "metadata": {},
     "output_type": "execute_result"
    }
   ],
   "source": [
    "netflix_data.isnull().sum()"
   ]
  },
  {
   "cell_type": "markdown",
   "id": "7ee0c8ca",
   "metadata": {},
   "source": [
    "**Statistics**"
   ]
  },
  {
   "cell_type": "code",
   "execution_count": 13,
   "id": "d78eb129",
   "metadata": {},
   "outputs": [
    {
     "name": "stderr",
     "output_type": "stream",
     "text": [
      "C:\\Users\\Joshua\\AppData\\Local\\Temp/ipykernel_14172/1153414984.py:1: FutureWarning: Dropping of nuisance columns in DataFrame reductions (with 'numeric_only=None') is deprecated; in a future version this will raise TypeError.  Select only valid columns before calling the reduction.\n",
      "  netflix_data.mean()\n"
     ]
    },
    {
     "data": {
      "text/plain": [
       "Open          241.96\n",
       "High          246.48\n",
       "Low           239.28\n",
       "Close         245.17\n",
       "Volume    5280387.00\n",
       "dtype: float64"
      ]
     },
     "execution_count": 13,
     "metadata": {},
     "output_type": "execute_result"
    }
   ],
   "source": [
    "netflix_data.mean()"
   ]
  },
  {
   "cell_type": "code",
   "execution_count": 14,
   "id": "a81b2b24",
   "metadata": {
    "scrolled": true
   },
   "outputs": [
    {
     "data": {
      "text/plain": [
       "Date      08/18/2022\n",
       "Open          241.96\n",
       "High          246.48\n",
       "Low           239.28\n",
       "Close         245.17\n",
       "Volume       5280387\n",
       "dtype: object"
      ]
     },
     "execution_count": 14,
     "metadata": {},
     "output_type": "execute_result"
    }
   ],
   "source": [
    "netflix_data.max()"
   ]
  },
  {
   "cell_type": "code",
   "execution_count": 15,
   "id": "81b7ef38",
   "metadata": {},
   "outputs": [
    {
     "name": "stderr",
     "output_type": "stream",
     "text": [
      "C:\\Users\\Joshua\\AppData\\Local\\Temp/ipykernel_14172/1153414984.py:1: FutureWarning: Dropping of nuisance columns in DataFrame reductions (with 'numeric_only=None') is deprecated; in a future version this will raise TypeError.  Select only valid columns before calling the reduction.\n",
      "  netflix_data.mean()\n"
     ]
    },
    {
     "data": {
      "text/plain": [
       "Open          241.96\n",
       "High          246.48\n",
       "Low           239.28\n",
       "Close         245.17\n",
       "Volume    5280387.00\n",
       "dtype: float64"
      ]
     },
     "execution_count": 15,
     "metadata": {},
     "output_type": "execute_result"
    }
   ],
   "source": [
    "netflix_data.mean()"
   ]
  },
  {
   "cell_type": "code",
   "execution_count": 16,
   "id": "abaf1791",
   "metadata": {
    "scrolled": true
   },
   "outputs": [
    {
     "data": {
      "text/html": [
       "<div>\n",
       "<style scoped>\n",
       "    .dataframe tbody tr th:only-of-type {\n",
       "        vertical-align: middle;\n",
       "    }\n",
       "\n",
       "    .dataframe tbody tr th {\n",
       "        vertical-align: top;\n",
       "    }\n",
       "\n",
       "    .dataframe thead th {\n",
       "        text-align: right;\n",
       "    }\n",
       "</style>\n",
       "<table border=\"1\" class=\"dataframe\">\n",
       "  <thead>\n",
       "    <tr style=\"text-align: right;\">\n",
       "      <th></th>\n",
       "      <th>Open</th>\n",
       "      <th>High</th>\n",
       "      <th>Low</th>\n",
       "      <th>Close</th>\n",
       "      <th>Volume</th>\n",
       "    </tr>\n",
       "  </thead>\n",
       "  <tbody>\n",
       "    <tr>\n",
       "      <th>count</th>\n",
       "      <td>2.000000e+01</td>\n",
       "      <td>2.000000e+01</td>\n",
       "      <td>2.000000e+01</td>\n",
       "      <td>2.000000e+01</td>\n",
       "      <td>20.0</td>\n",
       "    </tr>\n",
       "    <tr>\n",
       "      <th>mean</th>\n",
       "      <td>2.419600e+02</td>\n",
       "      <td>2.464800e+02</td>\n",
       "      <td>2.392800e+02</td>\n",
       "      <td>2.451700e+02</td>\n",
       "      <td>5280387.0</td>\n",
       "    </tr>\n",
       "    <tr>\n",
       "      <th>std</th>\n",
       "      <td>2.916006e-14</td>\n",
       "      <td>5.832012e-14</td>\n",
       "      <td>5.832012e-14</td>\n",
       "      <td>2.916006e-14</td>\n",
       "      <td>0.0</td>\n",
       "    </tr>\n",
       "    <tr>\n",
       "      <th>min</th>\n",
       "      <td>2.419600e+02</td>\n",
       "      <td>2.464800e+02</td>\n",
       "      <td>2.392800e+02</td>\n",
       "      <td>2.451700e+02</td>\n",
       "      <td>5280387.0</td>\n",
       "    </tr>\n",
       "    <tr>\n",
       "      <th>25%</th>\n",
       "      <td>2.419600e+02</td>\n",
       "      <td>2.464800e+02</td>\n",
       "      <td>2.392800e+02</td>\n",
       "      <td>2.451700e+02</td>\n",
       "      <td>5280387.0</td>\n",
       "    </tr>\n",
       "    <tr>\n",
       "      <th>50%</th>\n",
       "      <td>2.419600e+02</td>\n",
       "      <td>2.464800e+02</td>\n",
       "      <td>2.392800e+02</td>\n",
       "      <td>2.451700e+02</td>\n",
       "      <td>5280387.0</td>\n",
       "    </tr>\n",
       "    <tr>\n",
       "      <th>75%</th>\n",
       "      <td>2.419600e+02</td>\n",
       "      <td>2.464800e+02</td>\n",
       "      <td>2.392800e+02</td>\n",
       "      <td>2.451700e+02</td>\n",
       "      <td>5280387.0</td>\n",
       "    </tr>\n",
       "    <tr>\n",
       "      <th>max</th>\n",
       "      <td>2.419600e+02</td>\n",
       "      <td>2.464800e+02</td>\n",
       "      <td>2.392800e+02</td>\n",
       "      <td>2.451700e+02</td>\n",
       "      <td>5280387.0</td>\n",
       "    </tr>\n",
       "  </tbody>\n",
       "</table>\n",
       "</div>"
      ],
      "text/plain": [
       "               Open          High           Low         Close     Volume\n",
       "count  2.000000e+01  2.000000e+01  2.000000e+01  2.000000e+01       20.0\n",
       "mean   2.419600e+02  2.464800e+02  2.392800e+02  2.451700e+02  5280387.0\n",
       "std    2.916006e-14  5.832012e-14  5.832012e-14  2.916006e-14        0.0\n",
       "min    2.419600e+02  2.464800e+02  2.392800e+02  2.451700e+02  5280387.0\n",
       "25%    2.419600e+02  2.464800e+02  2.392800e+02  2.451700e+02  5280387.0\n",
       "50%    2.419600e+02  2.464800e+02  2.392800e+02  2.451700e+02  5280387.0\n",
       "75%    2.419600e+02  2.464800e+02  2.392800e+02  2.451700e+02  5280387.0\n",
       "max    2.419600e+02  2.464800e+02  2.392800e+02  2.451700e+02  5280387.0"
      ]
     },
     "execution_count": 16,
     "metadata": {},
     "output_type": "execute_result"
    }
   ],
   "source": [
    "netflix_data.describe()"
   ]
  },
  {
   "cell_type": "code",
   "execution_count": 17,
   "id": "ba6d07dd",
   "metadata": {},
   "outputs": [
    {
     "data": {
      "text/plain": [
       "<AxesSubplot:xlabel='Date'>"
      ]
     },
     "execution_count": 17,
     "metadata": {},
     "output_type": "execute_result"
    },
    {
     "data": {
      "image/png": "[encoded data removed]",
      "text/plain": [
       "<Figure size 432x288 with 1 Axes>"
      ]
     },
     "metadata": {
      "needs_background": "light"
     },
     "output_type": "display_data"
    }
   ],
   "source": [
    "netflix_data.plot(x='Date',y='Open')"
   ]
  },
  {
   "cell_type": "code",
   "execution_count": null,
   "id": "71e32fc7",
   "metadata": {},
   "outputs": [],
   "source": []
  }
 ],
 "metadata": {
  "kernelspec": {
   "display_name": "Python 3 (ipykernel)",
   "language": "python",
   "name": "python3"
  },
  "language_info": {
   "codemirror_mode": {
    "name": "ipython",
    "version": 3
   },
   "file_extension": ".py",
   "mimetype": "text/x-python",
   "name": "python",
   "nbconvert_exporter": "python",
   "pygments_lexer": "ipython3",
   "version": "3.9.7"
  }
 },
 "nbformat": 4,
 "nbformat_minor": 5
}
